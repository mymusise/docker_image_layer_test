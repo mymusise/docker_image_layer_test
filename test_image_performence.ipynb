{
 "cells": [
  {
   "cell_type": "code",
   "execution_count": 1,
   "metadata": {},
   "outputs": [
    {
     "name": "stdout",
     "output_type": "stream",
     "text": [
      "3.8: Pulling from library/python\n",
      "Digest: sha256:3a519327ab069a4e356a8aa279e80b7ef6270e17c5df1493dd0a5b281755e95a\n",
      "Status: Image is up to date for python:3.8\n",
      "docker.io/library/python:3.8\n"
     ]
    },
    {
     "data": {
      "text/plain": [
       "0"
      ]
     },
     "execution_count": 1,
     "metadata": {},
     "output_type": "execute_result"
    }
   ],
   "source": [
    "import os\n",
    "\n",
    "os.system(\"docker pull python:3.8\")"
   ]
  },
  {
   "cell_type": "code",
   "execution_count": 2,
   "metadata": {},
   "outputs": [
    {
     "name": "stdout",
     "output_type": "stream",
     "text": [
      "-rw-rw-r-- 1 mymusise mymusise 1.2G 1月  10 11:20 big_file.txt\n"
     ]
    },
    {
     "data": {
      "text/plain": [
       "0"
      ]
     },
     "execution_count": 2,
     "metadata": {},
     "output_type": "execute_result"
    }
   ],
   "source": [
    "# make a big file\n",
    "string = \"qweasdzxc123\"\n",
    "with open(\"big_file.txt\", \"w\") as f:\n",
    "    f.write(string*int(1e8))\n",
    "os.system(\"ls -lh big_file.txt\")"
   ]
  },
  {
   "cell_type": "code",
   "execution_count": 3,
   "metadata": {},
   "outputs": [
    {
     "name": "stdout",
     "output_type": "stream",
     "text": [
      "Sending build context to Docker daemon    1.2GB\n",
      "Step 1/3 : from python:3.8\n",
      " ---> 51a078947558\n",
      "Step 2/3 : RUN mkdir /data1\n",
      " ---> Running in 6362b74f83eb\n",
      "Removing intermediate container 6362b74f83eb\n",
      " ---> 38f82626b50f\n",
      "Step 3/3 : COPY big_file.txt /data1/\n",
      " ---> 0bfb116160cf\n",
      "Successfully built 0bfb116160cf\n",
      "Successfully tagged python:3.8_with_big_file\n"
     ]
    },
    {
     "data": {
      "text/plain": [
       "0"
      ]
     },
     "execution_count": 3,
     "metadata": {},
     "output_type": "execute_result"
    }
   ],
   "source": [
    "os.system(\"docker build . -t python:3.8_with_big_file\")"
   ]
  },
  {
   "cell_type": "code",
   "execution_count": 4,
   "metadata": {},
   "outputs": [
    {
     "name": "stdout",
     "output_type": "stream",
     "text": [
      "python                                                               3.8_with_big_file   0bfb116160cf   7 seconds ago    2.11GB\n",
      "python                                                               3.8                 51a078947558   2 weeks ago      913MB\n"
     ]
    },
    {
     "data": {
      "text/plain": [
       "0"
      ]
     },
     "execution_count": 4,
     "metadata": {},
     "output_type": "execute_result"
    }
   ],
   "source": [
    "os.system(\"docker images |grep python |grep 3.8\")"
   ]
  },
  {
   "cell_type": "code",
   "execution_count": 5,
   "metadata": {},
   "outputs": [
    {
     "name": "stdout",
     "output_type": "stream",
     "text": [
      "100\n",
      "100\n",
      "100\n",
      "100\n",
      "100\n",
      "100\n",
      "100\n",
      "100\n",
      "100\n",
      "100\n",
      "6.702610015869141\n"
     ]
    }
   ],
   "source": [
    "import time\n",
    "\n",
    "t1 = time.time()\n",
    "for i in range(10):\n",
    "    os.system(\"docker run --rm python:3.8 python -c \\\"print(f'{10 * 10}')\\\"\")\n",
    "t2 = time.time()\n",
    "print(t2 - t1)"
   ]
  },
  {
   "cell_type": "code",
   "execution_count": 7,
   "metadata": {},
   "outputs": [
    {
     "name": "stdout",
     "output_type": "stream",
     "text": [
      "100\n",
      "100\n",
      "100\n",
      "100\n",
      "100\n",
      "100\n",
      "100\n",
      "100\n",
      "100\n",
      "100\n",
      "6.59718132019043\n"
     ]
    }
   ],
   "source": [
    "t1 = time.time()\n",
    "for i in range(10):\n",
    "    os.system(\"docker run --rm python:3.8_with_big_file python -c \\\"print(f'{10 * 10}')\\\"\")\n",
    "t2 = time.time()\n",
    "print(t2 - t1)"
   ]
  }
 ],
 "metadata": {
  "kernelspec": {
   "display_name": "Python 3",
   "language": "python",
   "name": "python3"
  },
  "language_info": {
   "codemirror_mode": {
    "name": "ipython",
    "version": 3
   },
   "file_extension": ".py",
   "mimetype": "text/x-python",
   "name": "python",
   "nbconvert_exporter": "python",
   "pygments_lexer": "ipython3",
   "version": "3.8.12"
  },
  "orig_nbformat": 4,
  "vscode": {
   "interpreter": {
    "hash": "aee8b7b246df8f9039afb4144a1f6fd8d2ca17a180786b69acc140d282b71a49"
   }
  }
 },
 "nbformat": 4,
 "nbformat_minor": 2
}
